{
 "cells": [
  {
   "cell_type": "markdown",
   "metadata": {
    "toc": true
   },
   "source": [
    "<h1>Содержание<span class=\"tocSkip\"></span></h1>\n",
    "<div class=\"toc\"><ul class=\"toc-item\"><li><span><a href=\"#Подготовка-данных\" data-toc-modified-id=\"Подготовка-данных-1\"><span class=\"toc-item-num\">1&nbsp;&nbsp;</span>Подготовка данных</a></span></li><li><span><a href=\"#Исследование-задачи\" data-toc-modified-id=\"Исследование-задачи-2\"><span class=\"toc-item-num\">2&nbsp;&nbsp;</span>Исследование задачи</a></span></li><li><span><a href=\"#Борьба-с-дисбалансом\" data-toc-modified-id=\"Борьба-с-дисбалансом-3\"><span class=\"toc-item-num\">3&nbsp;&nbsp;</span>Борьба с дисбалансом</a></span></li><li><span><a href=\"#Тестирование-модели\" data-toc-modified-id=\"Тестирование-модели-4\"><span class=\"toc-item-num\">4&nbsp;&nbsp;</span>Тестирование модели</a></span></li><li><span><a href=\"#Чек-лист-готовности-проекта\" data-toc-modified-id=\"Чек-лист-готовности-проекта-5\"><span class=\"toc-item-num\">5&nbsp;&nbsp;</span>Чек-лист готовности проекта</a></span></li><li><span><a href=\"#Общий-вывод-по-проекту\" data-toc-modified-id=\"Общий-вывод-по-проекту-6\"><span class=\"toc-item-num\">6&nbsp;&nbsp;</span><b>Общий вывод по проекту</b></a></span></li><li><span><a href=\"#Общий-вывод-по-проекту-V2\" data-toc-modified-id=\"Общий-вывод-по-проекту-V2-7\"><span class=\"toc-item-num\">7&nbsp;&nbsp;</span><b>Общий вывод по проекту V2</b></a></span></li></ul></div>"
   ]
  },
  {
   "cell_type": "markdown",
   "metadata": {},
   "source": [
    "# Отток клиентов"
   ]
  },
  {
   "cell_type": "markdown",
   "metadata": {},
   "source": [
    "Из «Бета-Банка» стали уходить клиенты. Каждый месяц. Немного, но заметно. Банковские маркетологи посчитали: сохранять текущих клиентов дешевле, чем привлекать новых.\n",
    "\n",
    "Нужно спрогнозировать, уйдёт клиент из банка в ближайшее время или нет. Вам предоставлены исторические данные о поведении клиентов и расторжении договоров с банком. \n",
    "\n",
    "Постройте модель с предельно большим значением *F1*-меры. Чтобы сдать проект успешно, нужно довести метрику до 0.59. Проверьте *F1*-меру на тестовой выборке самостоятельно.\n",
    "\n",
    "Дополнительно измеряйте *AUC-ROC*, сравнивайте её значение с *F1*-мерой.\n",
    "\n",
    "Источник данных: [https://www.kaggle.com/barelydedicated/bank-customer-churn-modeling](https://www.kaggle.com/barelydedicated/bank-customer-churn-modeling)"
   ]
  },
  {
   "cell_type": "code",
   "execution_count": 1,
   "metadata": {},
   "outputs": [],
   "source": [
    "import pandas as pd\n",
    "import numpy as np\n",
    "import seaborn as sns\n",
    "import matplotlib.pyplot as plt\n",
    "\n",
    "from sklearn.model_selection import train_test_split\n",
    "from sklearn.linear_model import LogisticRegression\n",
    "from sklearn.tree import DecisionTreeClassifier\n",
    "from sklearn.ensemble import RandomForestClassifier\n",
    "from sklearn.metrics import accuracy_score, classification_report, precision_score, recall_score, f1_score, roc_curve, roc_auc_score\n",
    "from sklearn.utils import shuffle"
   ]
  },
  {
   "cell_type": "markdown",
   "metadata": {},
   "source": [
    "## Подготовка данных"
   ]
  },
  {
   "cell_type": "code",
   "execution_count": 2,
   "metadata": {},
   "outputs": [],
   "source": [
    "try:\n",
    "    data = pd.read_csv('Churn.csv')\n",
    "except FileNotFoundError:\n",
    "    data = pd.read_csv('/datasets/Churn.csv')"
   ]
  },
  {
   "cell_type": "code",
   "execution_count": 3,
   "metadata": {},
   "outputs": [
    {
     "data": {
      "text/html": [
       "<div>\n",
       "<style scoped>\n",
       "    .dataframe tbody tr th:only-of-type {\n",
       "        vertical-align: middle;\n",
       "    }\n",
       "\n",
       "    .dataframe tbody tr th {\n",
       "        vertical-align: top;\n",
       "    }\n",
       "\n",
       "    .dataframe thead th {\n",
       "        text-align: right;\n",
       "    }\n",
       "</style>\n",
       "<table border=\"1\" class=\"dataframe\">\n",
       "  <thead>\n",
       "    <tr style=\"text-align: right;\">\n",
       "      <th></th>\n",
       "      <th>RowNumber</th>\n",
       "      <th>CustomerId</th>\n",
       "      <th>Surname</th>\n",
       "      <th>CreditScore</th>\n",
       "      <th>Geography</th>\n",
       "      <th>Gender</th>\n",
       "      <th>Age</th>\n",
       "      <th>Tenure</th>\n",
       "      <th>Balance</th>\n",
       "      <th>NumOfProducts</th>\n",
       "      <th>HasCrCard</th>\n",
       "      <th>IsActiveMember</th>\n",
       "      <th>EstimatedSalary</th>\n",
       "      <th>Exited</th>\n",
       "    </tr>\n",
       "  </thead>\n",
       "  <tbody>\n",
       "    <tr>\n",
       "      <th>0</th>\n",
       "      <td>1</td>\n",
       "      <td>15634602</td>\n",
       "      <td>Hargrave</td>\n",
       "      <td>619</td>\n",
       "      <td>France</td>\n",
       "      <td>Female</td>\n",
       "      <td>42</td>\n",
       "      <td>2.0</td>\n",
       "      <td>0.00</td>\n",
       "      <td>1</td>\n",
       "      <td>1</td>\n",
       "      <td>1</td>\n",
       "      <td>101348.88</td>\n",
       "      <td>1</td>\n",
       "    </tr>\n",
       "    <tr>\n",
       "      <th>1</th>\n",
       "      <td>2</td>\n",
       "      <td>15647311</td>\n",
       "      <td>Hill</td>\n",
       "      <td>608</td>\n",
       "      <td>Spain</td>\n",
       "      <td>Female</td>\n",
       "      <td>41</td>\n",
       "      <td>1.0</td>\n",
       "      <td>83807.86</td>\n",
       "      <td>1</td>\n",
       "      <td>0</td>\n",
       "      <td>1</td>\n",
       "      <td>112542.58</td>\n",
       "      <td>0</td>\n",
       "    </tr>\n",
       "    <tr>\n",
       "      <th>2</th>\n",
       "      <td>3</td>\n",
       "      <td>15619304</td>\n",
       "      <td>Onio</td>\n",
       "      <td>502</td>\n",
       "      <td>France</td>\n",
       "      <td>Female</td>\n",
       "      <td>42</td>\n",
       "      <td>8.0</td>\n",
       "      <td>159660.80</td>\n",
       "      <td>3</td>\n",
       "      <td>1</td>\n",
       "      <td>0</td>\n",
       "      <td>113931.57</td>\n",
       "      <td>1</td>\n",
       "    </tr>\n",
       "    <tr>\n",
       "      <th>3</th>\n",
       "      <td>4</td>\n",
       "      <td>15701354</td>\n",
       "      <td>Boni</td>\n",
       "      <td>699</td>\n",
       "      <td>France</td>\n",
       "      <td>Female</td>\n",
       "      <td>39</td>\n",
       "      <td>1.0</td>\n",
       "      <td>0.00</td>\n",
       "      <td>2</td>\n",
       "      <td>0</td>\n",
       "      <td>0</td>\n",
       "      <td>93826.63</td>\n",
       "      <td>0</td>\n",
       "    </tr>\n",
       "    <tr>\n",
       "      <th>4</th>\n",
       "      <td>5</td>\n",
       "      <td>15737888</td>\n",
       "      <td>Mitchell</td>\n",
       "      <td>850</td>\n",
       "      <td>Spain</td>\n",
       "      <td>Female</td>\n",
       "      <td>43</td>\n",
       "      <td>2.0</td>\n",
       "      <td>125510.82</td>\n",
       "      <td>1</td>\n",
       "      <td>1</td>\n",
       "      <td>1</td>\n",
       "      <td>79084.10</td>\n",
       "      <td>0</td>\n",
       "    </tr>\n",
       "  </tbody>\n",
       "</table>\n",
       "</div>"
      ],
      "text/plain": [
       "   RowNumber  CustomerId   Surname  CreditScore Geography  Gender  Age  \\\n",
       "0          1    15634602  Hargrave          619    France  Female   42   \n",
       "1          2    15647311      Hill          608     Spain  Female   41   \n",
       "2          3    15619304      Onio          502    France  Female   42   \n",
       "3          4    15701354      Boni          699    France  Female   39   \n",
       "4          5    15737888  Mitchell          850     Spain  Female   43   \n",
       "\n",
       "   Tenure    Balance  NumOfProducts  HasCrCard  IsActiveMember  \\\n",
       "0     2.0       0.00              1          1               1   \n",
       "1     1.0   83807.86              1          0               1   \n",
       "2     8.0  159660.80              3          1               0   \n",
       "3     1.0       0.00              2          0               0   \n",
       "4     2.0  125510.82              1          1               1   \n",
       "\n",
       "   EstimatedSalary  Exited  \n",
       "0        101348.88       1  \n",
       "1        112542.58       0  \n",
       "2        113931.57       1  \n",
       "3         93826.63       0  \n",
       "4         79084.10       0  "
      ]
     },
     "execution_count": 3,
     "metadata": {},
     "output_type": "execute_result"
    }
   ],
   "source": [
    "data.head()"
   ]
  },
  {
   "cell_type": "markdown",
   "metadata": {},
   "source": [
    "Удалим колонки RowNumber CustomerId Surname так как они не несут никакой информации"
   ]
  },
  {
   "cell_type": "code",
   "execution_count": 4,
   "metadata": {},
   "outputs": [],
   "source": [
    "data.drop(['RowNumber', 'CustomerId', 'Surname'], axis=1, inplace=True)"
   ]
  },
  {
   "cell_type": "code",
   "execution_count": 5,
   "metadata": {},
   "outputs": [
    {
     "data": {
      "text/plain": [
       "(10000, 11)"
      ]
     },
     "execution_count": 5,
     "metadata": {},
     "output_type": "execute_result"
    }
   ],
   "source": [
    "data.shape"
   ]
  },
  {
   "cell_type": "code",
   "execution_count": 6,
   "metadata": {},
   "outputs": [
    {
     "data": {
      "text/plain": [
       "CreditScore          int64\n",
       "Geography           object\n",
       "Gender              object\n",
       "Age                  int64\n",
       "Tenure             float64\n",
       "Balance            float64\n",
       "NumOfProducts        int64\n",
       "HasCrCard            int64\n",
       "IsActiveMember       int64\n",
       "EstimatedSalary    float64\n",
       "Exited               int64\n",
       "dtype: object"
      ]
     },
     "execution_count": 6,
     "metadata": {},
     "output_type": "execute_result"
    }
   ],
   "source": [
    "data.dtypes"
   ]
  },
  {
   "cell_type": "code",
   "execution_count": 7,
   "metadata": {},
   "outputs": [
    {
     "data": {
      "text/html": [
       "<div>\n",
       "<style scoped>\n",
       "    .dataframe tbody tr th:only-of-type {\n",
       "        vertical-align: middle;\n",
       "    }\n",
       "\n",
       "    .dataframe tbody tr th {\n",
       "        vertical-align: top;\n",
       "    }\n",
       "\n",
       "    .dataframe thead th {\n",
       "        text-align: right;\n",
       "    }\n",
       "</style>\n",
       "<table border=\"1\" class=\"dataframe\">\n",
       "  <thead>\n",
       "    <tr style=\"text-align: right;\">\n",
       "      <th></th>\n",
       "      <th>CreditScore</th>\n",
       "      <th>Age</th>\n",
       "      <th>Tenure</th>\n",
       "      <th>Balance</th>\n",
       "      <th>NumOfProducts</th>\n",
       "      <th>HasCrCard</th>\n",
       "      <th>IsActiveMember</th>\n",
       "      <th>EstimatedSalary</th>\n",
       "      <th>Exited</th>\n",
       "    </tr>\n",
       "  </thead>\n",
       "  <tbody>\n",
       "    <tr>\n",
       "      <th>count</th>\n",
       "      <td>10000.000000</td>\n",
       "      <td>10000.000000</td>\n",
       "      <td>9091.000000</td>\n",
       "      <td>10000.000000</td>\n",
       "      <td>10000.000000</td>\n",
       "      <td>10000.00000</td>\n",
       "      <td>10000.000000</td>\n",
       "      <td>10000.000000</td>\n",
       "      <td>10000.000000</td>\n",
       "    </tr>\n",
       "    <tr>\n",
       "      <th>mean</th>\n",
       "      <td>650.528800</td>\n",
       "      <td>38.921800</td>\n",
       "      <td>4.997690</td>\n",
       "      <td>76485.889288</td>\n",
       "      <td>1.530200</td>\n",
       "      <td>0.70550</td>\n",
       "      <td>0.515100</td>\n",
       "      <td>100090.239881</td>\n",
       "      <td>0.203700</td>\n",
       "    </tr>\n",
       "    <tr>\n",
       "      <th>std</th>\n",
       "      <td>96.653299</td>\n",
       "      <td>10.487806</td>\n",
       "      <td>2.894723</td>\n",
       "      <td>62397.405202</td>\n",
       "      <td>0.581654</td>\n",
       "      <td>0.45584</td>\n",
       "      <td>0.499797</td>\n",
       "      <td>57510.492818</td>\n",
       "      <td>0.402769</td>\n",
       "    </tr>\n",
       "    <tr>\n",
       "      <th>min</th>\n",
       "      <td>350.000000</td>\n",
       "      <td>18.000000</td>\n",
       "      <td>0.000000</td>\n",
       "      <td>0.000000</td>\n",
       "      <td>1.000000</td>\n",
       "      <td>0.00000</td>\n",
       "      <td>0.000000</td>\n",
       "      <td>11.580000</td>\n",
       "      <td>0.000000</td>\n",
       "    </tr>\n",
       "    <tr>\n",
       "      <th>25%</th>\n",
       "      <td>584.000000</td>\n",
       "      <td>32.000000</td>\n",
       "      <td>2.000000</td>\n",
       "      <td>0.000000</td>\n",
       "      <td>1.000000</td>\n",
       "      <td>0.00000</td>\n",
       "      <td>0.000000</td>\n",
       "      <td>51002.110000</td>\n",
       "      <td>0.000000</td>\n",
       "    </tr>\n",
       "    <tr>\n",
       "      <th>50%</th>\n",
       "      <td>652.000000</td>\n",
       "      <td>37.000000</td>\n",
       "      <td>5.000000</td>\n",
       "      <td>97198.540000</td>\n",
       "      <td>1.000000</td>\n",
       "      <td>1.00000</td>\n",
       "      <td>1.000000</td>\n",
       "      <td>100193.915000</td>\n",
       "      <td>0.000000</td>\n",
       "    </tr>\n",
       "    <tr>\n",
       "      <th>75%</th>\n",
       "      <td>718.000000</td>\n",
       "      <td>44.000000</td>\n",
       "      <td>7.000000</td>\n",
       "      <td>127644.240000</td>\n",
       "      <td>2.000000</td>\n",
       "      <td>1.00000</td>\n",
       "      <td>1.000000</td>\n",
       "      <td>149388.247500</td>\n",
       "      <td>0.000000</td>\n",
       "    </tr>\n",
       "    <tr>\n",
       "      <th>max</th>\n",
       "      <td>850.000000</td>\n",
       "      <td>92.000000</td>\n",
       "      <td>10.000000</td>\n",
       "      <td>250898.090000</td>\n",
       "      <td>4.000000</td>\n",
       "      <td>1.00000</td>\n",
       "      <td>1.000000</td>\n",
       "      <td>199992.480000</td>\n",
       "      <td>1.000000</td>\n",
       "    </tr>\n",
       "  </tbody>\n",
       "</table>\n",
       "</div>"
      ],
      "text/plain": [
       "        CreditScore           Age       Tenure        Balance  NumOfProducts  \\\n",
       "count  10000.000000  10000.000000  9091.000000   10000.000000   10000.000000   \n",
       "mean     650.528800     38.921800     4.997690   76485.889288       1.530200   \n",
       "std       96.653299     10.487806     2.894723   62397.405202       0.581654   \n",
       "min      350.000000     18.000000     0.000000       0.000000       1.000000   \n",
       "25%      584.000000     32.000000     2.000000       0.000000       1.000000   \n",
       "50%      652.000000     37.000000     5.000000   97198.540000       1.000000   \n",
       "75%      718.000000     44.000000     7.000000  127644.240000       2.000000   \n",
       "max      850.000000     92.000000    10.000000  250898.090000       4.000000   \n",
       "\n",
       "         HasCrCard  IsActiveMember  EstimatedSalary        Exited  \n",
       "count  10000.00000    10000.000000     10000.000000  10000.000000  \n",
       "mean       0.70550        0.515100    100090.239881      0.203700  \n",
       "std        0.45584        0.499797     57510.492818      0.402769  \n",
       "min        0.00000        0.000000        11.580000      0.000000  \n",
       "25%        0.00000        0.000000     51002.110000      0.000000  \n",
       "50%        1.00000        1.000000    100193.915000      0.000000  \n",
       "75%        1.00000        1.000000    149388.247500      0.000000  \n",
       "max        1.00000        1.000000    199992.480000      1.000000  "
      ]
     },
     "execution_count": 7,
     "metadata": {},
     "output_type": "execute_result"
    }
   ],
   "source": [
    "data.describe()"
   ]
  },
  {
   "cell_type": "code",
   "execution_count": 8,
   "metadata": {},
   "outputs": [
    {
     "data": {
      "text/plain": [
       "CreditScore          0\n",
       "Geography            0\n",
       "Gender               0\n",
       "Age                  0\n",
       "Tenure             909\n",
       "Balance              0\n",
       "NumOfProducts        0\n",
       "HasCrCard            0\n",
       "IsActiveMember       0\n",
       "EstimatedSalary      0\n",
       "Exited               0\n",
       "dtype: int64"
      ]
     },
     "execution_count": 8,
     "metadata": {},
     "output_type": "execute_result"
    }
   ],
   "source": [
    "data.isna().sum()"
   ]
  },
  {
   "cell_type": "code",
   "execution_count": 9,
   "metadata": {},
   "outputs": [],
   "source": [
    "#pd.plotting.scatter_matrix(data, figsize=(16, 20))\n",
    "#plt.show()"
   ]
  },
  {
   "cell_type": "code",
   "execution_count": 10,
   "metadata": {},
   "outputs": [
    {
     "data": {
      "image/png": "[encoded data removed]",
      "text/plain": [
       "<Figure size 432x288 with 2 Axes>"
      ]
     },
     "metadata": {
      "needs_background": "light"
     },
     "output_type": "display_data"
    }
   ],
   "source": [
    "corr = data.corr()\n",
    "sns.heatmap(corr, cmap='BrBG', vmax=1, vmin=-1)\n",
    "plt.show()"
   ]
  },
  {
   "cell_type": "markdown",
   "metadata": {},
   "source": [
    "Фичи между собой не коррелируют, выбросов нет"
   ]
  },
  {
   "cell_type": "code",
   "execution_count": 11,
   "metadata": {},
   "outputs": [],
   "source": [
    "data['Tenure'].fillna(-1, inplace=True)"
   ]
  },
  {
   "cell_type": "code",
   "execution_count": 12,
   "metadata": {},
   "outputs": [
    {
     "data": {
      "text/plain": [
       "CreditScore        0\n",
       "Geography          0\n",
       "Gender             0\n",
       "Age                0\n",
       "Tenure             0\n",
       "Balance            0\n",
       "NumOfProducts      0\n",
       "HasCrCard          0\n",
       "IsActiveMember     0\n",
       "EstimatedSalary    0\n",
       "Exited             0\n",
       "dtype: int64"
      ]
     },
     "execution_count": 12,
     "metadata": {},
     "output_type": "execute_result"
    }
   ],
   "source": [
    "data.isna().sum()"
   ]
  },
  {
   "cell_type": "code",
   "execution_count": 13,
   "metadata": {},
   "outputs": [
    {
     "name": "stdout",
     "output_type": "stream",
     "text": [
      "Index(['Geography', 'Gender'], dtype='object')\n"
     ]
    }
   ],
   "source": [
    "object_columns = data.loc[:, data.dtypes == 'object'].columns\n",
    "print(object_columns)"
   ]
  },
  {
   "cell_type": "code",
   "execution_count": 14,
   "metadata": {},
   "outputs": [
    {
     "data": {
      "text/html": [
       "<div>\n",
       "<style scoped>\n",
       "    .dataframe tbody tr th:only-of-type {\n",
       "        vertical-align: middle;\n",
       "    }\n",
       "\n",
       "    .dataframe tbody tr th {\n",
       "        vertical-align: top;\n",
       "    }\n",
       "\n",
       "    .dataframe thead th {\n",
       "        text-align: right;\n",
       "    }\n",
       "</style>\n",
       "<table border=\"1\" class=\"dataframe\">\n",
       "  <thead>\n",
       "    <tr style=\"text-align: right;\">\n",
       "      <th></th>\n",
       "      <th>Geography</th>\n",
       "      <th>Gender</th>\n",
       "    </tr>\n",
       "  </thead>\n",
       "  <tbody>\n",
       "    <tr>\n",
       "      <th>count</th>\n",
       "      <td>10000</td>\n",
       "      <td>10000</td>\n",
       "    </tr>\n",
       "    <tr>\n",
       "      <th>unique</th>\n",
       "      <td>3</td>\n",
       "      <td>2</td>\n",
       "    </tr>\n",
       "    <tr>\n",
       "      <th>top</th>\n",
       "      <td>France</td>\n",
       "      <td>Male</td>\n",
       "    </tr>\n",
       "    <tr>\n",
       "      <th>freq</th>\n",
       "      <td>5014</td>\n",
       "      <td>5457</td>\n",
       "    </tr>\n",
       "  </tbody>\n",
       "</table>\n",
       "</div>"
      ],
      "text/plain": [
       "       Geography Gender\n",
       "count      10000  10000\n",
       "unique         3      2\n",
       "top       France   Male\n",
       "freq        5014   5457"
      ]
     },
     "execution_count": 14,
     "metadata": {},
     "output_type": "execute_result"
    }
   ],
   "source": [
    "data.describe(include='object')"
   ]
  },
  {
   "cell_type": "markdown",
   "metadata": {},
   "source": [
    "Количество уникальных категориальных признаков мало, поэтому можем применить OHE"
   ]
  },
  {
   "cell_type": "code",
   "execution_count": 15,
   "metadata": {},
   "outputs": [
    {
     "data": {
      "text/html": [
       "<div>\n",
       "<style scoped>\n",
       "    .dataframe tbody tr th:only-of-type {\n",
       "        vertical-align: middle;\n",
       "    }\n",
       "\n",
       "    .dataframe tbody tr th {\n",
       "        vertical-align: top;\n",
       "    }\n",
       "\n",
       "    .dataframe thead th {\n",
       "        text-align: right;\n",
       "    }\n",
       "</style>\n",
       "<table border=\"1\" class=\"dataframe\">\n",
       "  <thead>\n",
       "    <tr style=\"text-align: right;\">\n",
       "      <th></th>\n",
       "      <th>CreditScore</th>\n",
       "      <th>Age</th>\n",
       "      <th>Tenure</th>\n",
       "      <th>Balance</th>\n",
       "      <th>NumOfProducts</th>\n",
       "      <th>HasCrCard</th>\n",
       "      <th>IsActiveMember</th>\n",
       "      <th>EstimatedSalary</th>\n",
       "      <th>Exited</th>\n",
       "      <th>Geography_Germany</th>\n",
       "      <th>Geography_Spain</th>\n",
       "      <th>Gender_Male</th>\n",
       "    </tr>\n",
       "  </thead>\n",
       "  <tbody>\n",
       "    <tr>\n",
       "      <th>0</th>\n",
       "      <td>619</td>\n",
       "      <td>42</td>\n",
       "      <td>2.0</td>\n",
       "      <td>0.00</td>\n",
       "      <td>1</td>\n",
       "      <td>1</td>\n",
       "      <td>1</td>\n",
       "      <td>101348.88</td>\n",
       "      <td>1</td>\n",
       "      <td>0</td>\n",
       "      <td>0</td>\n",
       "      <td>0</td>\n",
       "    </tr>\n",
       "    <tr>\n",
       "      <th>1</th>\n",
       "      <td>608</td>\n",
       "      <td>41</td>\n",
       "      <td>1.0</td>\n",
       "      <td>83807.86</td>\n",
       "      <td>1</td>\n",
       "      <td>0</td>\n",
       "      <td>1</td>\n",
       "      <td>112542.58</td>\n",
       "      <td>0</td>\n",
       "      <td>0</td>\n",
       "      <td>1</td>\n",
       "      <td>0</td>\n",
       "    </tr>\n",
       "    <tr>\n",
       "      <th>2</th>\n",
       "      <td>502</td>\n",
       "      <td>42</td>\n",
       "      <td>8.0</td>\n",
       "      <td>159660.80</td>\n",
       "      <td>3</td>\n",
       "      <td>1</td>\n",
       "      <td>0</td>\n",
       "      <td>113931.57</td>\n",
       "      <td>1</td>\n",
       "      <td>0</td>\n",
       "      <td>0</td>\n",
       "      <td>0</td>\n",
       "    </tr>\n",
       "    <tr>\n",
       "      <th>3</th>\n",
       "      <td>699</td>\n",
       "      <td>39</td>\n",
       "      <td>1.0</td>\n",
       "      <td>0.00</td>\n",
       "      <td>2</td>\n",
       "      <td>0</td>\n",
       "      <td>0</td>\n",
       "      <td>93826.63</td>\n",
       "      <td>0</td>\n",
       "      <td>0</td>\n",
       "      <td>0</td>\n",
       "      <td>0</td>\n",
       "    </tr>\n",
       "    <tr>\n",
       "      <th>4</th>\n",
       "      <td>850</td>\n",
       "      <td>43</td>\n",
       "      <td>2.0</td>\n",
       "      <td>125510.82</td>\n",
       "      <td>1</td>\n",
       "      <td>1</td>\n",
       "      <td>1</td>\n",
       "      <td>79084.10</td>\n",
       "      <td>0</td>\n",
       "      <td>0</td>\n",
       "      <td>1</td>\n",
       "      <td>0</td>\n",
       "    </tr>\n",
       "  </tbody>\n",
       "</table>\n",
       "</div>"
      ],
      "text/plain": [
       "   CreditScore  Age  Tenure    Balance  NumOfProducts  HasCrCard  \\\n",
       "0          619   42     2.0       0.00              1          1   \n",
       "1          608   41     1.0   83807.86              1          0   \n",
       "2          502   42     8.0  159660.80              3          1   \n",
       "3          699   39     1.0       0.00              2          0   \n",
       "4          850   43     2.0  125510.82              1          1   \n",
       "\n",
       "   IsActiveMember  EstimatedSalary  Exited  Geography_Germany  \\\n",
       "0               1        101348.88       1                  0   \n",
       "1               1        112542.58       0                  0   \n",
       "2               0        113931.57       1                  0   \n",
       "3               0         93826.63       0                  0   \n",
       "4               1         79084.10       0                  0   \n",
       "\n",
       "   Geography_Spain  Gender_Male  \n",
       "0                0            0  \n",
       "1                1            0  \n",
       "2                0            0  \n",
       "3                0            0  \n",
       "4                1            0  "
      ]
     },
     "execution_count": 15,
     "metadata": {},
     "output_type": "execute_result"
    }
   ],
   "source": [
    "for col in object_columns:\n",
    "    dummies = pd.get_dummies(data[col], drop_first=True, prefix=col)\n",
    "    data = pd.concat([data.drop(col, axis=1), dummies], axis=1)\n",
    "\n",
    "data.head()"
   ]
  },
  {
   "cell_type": "markdown",
   "metadata": {},
   "source": []
  },
  {
   "cell_type": "markdown",
   "metadata": {},
   "source": [
    "Выводы:\n",
    "- Данные не имели выбросов\n",
    "- Не коррелировали между собой\n",
    "- Категориальных признаков было мало, поэтому применим OHE\n",
    "- Пропуск наблюдался только в одной колонке\n",
    "- В исходных данных имелись лишние признаки"
   ]
  },
  {
   "cell_type": "markdown",
   "metadata": {},
   "source": [
    "## Исследование задачи"
   ]
  },
  {
   "cell_type": "code",
   "execution_count": 16,
   "metadata": {},
   "outputs": [],
   "source": [
    "X = data.drop('Exited', axis=1)\n",
    "y = data['Exited']"
   ]
  },
  {
   "cell_type": "code",
   "execution_count": 17,
   "metadata": {},
   "outputs": [
    {
     "data": {
      "text/plain": [
       "0    0.7963\n",
       "1    0.2037\n",
       "Name: Exited, dtype: float64"
      ]
     },
     "execution_count": 17,
     "metadata": {},
     "output_type": "execute_result"
    }
   ],
   "source": [
    "y.value_counts(normalize=True)"
   ]
  },
  {
   "cell_type": "markdown",
   "metadata": {},
   "source": [
    "Имеем дисбаланс классов 1 к 4"
   ]
  },
  {
   "cell_type": "code",
   "execution_count": 18,
   "metadata": {},
   "outputs": [],
   "source": [
    "X_train, X_test, y_train, y_test = train_test_split(X, y, test_size=0.25, random_state=12345, stratify=y)\n",
    "\n",
    "X_train, X_val, y_train, y_val = train_test_split(X_train, y_train, test_size=0.25, random_state=12345, stratify=y_train)"
   ]
  },
  {
   "cell_type": "code",
   "execution_count": 19,
   "metadata": {},
   "outputs": [
    {
     "data": {
      "text/plain": [
       "0    0.796267\n",
       "1    0.203733\n",
       "Name: Exited, dtype: float64"
      ]
     },
     "execution_count": 19,
     "metadata": {},
     "output_type": "execute_result"
    }
   ],
   "source": [
    "y_train.value_counts(normalize=True)"
   ]
  },
  {
   "cell_type": "code",
   "execution_count": 20,
   "metadata": {},
   "outputs": [
    {
     "data": {
      "text/plain": [
       "0    0.796267\n",
       "1    0.203733\n",
       "Name: Exited, dtype: float64"
      ]
     },
     "execution_count": 20,
     "metadata": {},
     "output_type": "execute_result"
    }
   ],
   "source": [
    "y_val.value_counts(normalize=True)"
   ]
  },
  {
   "cell_type": "code",
   "execution_count": 21,
   "metadata": {},
   "outputs": [
    {
     "data": {
      "text/plain": [
       "0    0.7964\n",
       "1    0.2036\n",
       "Name: Exited, dtype: float64"
      ]
     },
     "execution_count": 21,
     "metadata": {},
     "output_type": "execute_result"
    }
   ],
   "source": [
    "y_test.value_counts(normalize=True)"
   ]
  },
  {
   "cell_type": "markdown",
   "metadata": {},
   "source": [
    "Пропорции дисбаланса в различных выборках сохранились"
   ]
  },
  {
   "cell_type": "code",
   "execution_count": 22,
   "metadata": {},
   "outputs": [
    {
     "name": "stdout",
     "output_type": "stream",
     "text": [
      "Точность логистической регресии: 0.789\n",
      "Параметр регуляризации C = : 0.1\n",
      "AUC SCORE = 0.659\n"
     ]
    }
   ],
   "source": [
    "best_lr_model = None\n",
    "best_param = 1\n",
    "best_score = 0\n",
    "\n",
    "for param in np.arange(0.1, 2, 0.1):\n",
    "    lr_model = LogisticRegression(C=param)\n",
    "\n",
    "    lr_model.fit(X_train, y_train)\n",
    "    \n",
    "    score = lr_model.score(X_train, y_train)\n",
    "    \n",
    "    if score > best_score:\n",
    "        best_score = score\n",
    "        best_lr_model = lr_model\n",
    "        best_param = param\n",
    "y_pred = best_lr_model.predict(X_val)\n",
    "\n",
    "auc_score = roc_auc_score(y_val, best_lr_model.predict_proba(X_val)[:, 1])\n",
    "\n",
    "print(f'Точность логистической регресии: {accuracy_score(y_val, y_pred):.3f}')\n",
    "print(f'Параметр регуляризации C = : {best_param}')\n",
    "print(f'AUC SCORE = {auc_score:.3f}')"
   ]
  },
  {
   "cell_type": "code",
   "execution_count": 23,
   "metadata": {},
   "outputs": [
    {
     "name": "stdout",
     "output_type": "stream",
     "text": [
      "              precision    recall  f1-score   support\n",
      "\n",
      "           0       0.80      0.97      0.88      1493\n",
      "           1       0.39      0.07      0.12       382\n",
      "\n",
      "    accuracy                           0.79      1875\n",
      "   macro avg       0.60      0.52      0.50      1875\n",
      "weighted avg       0.72      0.79      0.72      1875\n",
      "\n"
     ]
    }
   ],
   "source": [
    "print(classification_report(y_val, y_pred))"
   ]
  },
  {
   "cell_type": "code",
   "execution_count": 24,
   "metadata": {},
   "outputs": [
    {
     "name": "stdout",
     "output_type": "stream",
     "text": [
      "Точность дерева решений: 0.850\n",
      "Глубина дерева: 6\n",
      "AUC SCORE = 0.844\n"
     ]
    }
   ],
   "source": [
    "best_param = None\n",
    "best_dt_model = None\n",
    "best_score = 0\n",
    "for depth in range(1, 50):\n",
    "    dt_model = DecisionTreeClassifier(max_depth=depth, random_state=12345)\n",
    "    dt_model.fit(X_train, y_train)\n",
    "    score = dt_model.score(X_val, y_val)\n",
    "    if score > best_score:\n",
    "        best_score = score\n",
    "        best_dt_model = dt_model\n",
    "        best_param = depth\n",
    "\n",
    "y_pred = best_dt_model.predict(X_val)\n",
    "\n",
    "auc_score = roc_auc_score(y_val, best_dt_model.predict_proba(X_val)[:, 1])\n",
    "\n",
    "print(f'Точность дерева решений: {accuracy_score(y_val, y_pred):.3f}')\n",
    "print(f'Глубина дерева: {best_param}')\n",
    "print(f'AUC SCORE = {auc_score:.3f}')"
   ]
  },
  {
   "cell_type": "code",
   "execution_count": 25,
   "metadata": {},
   "outputs": [
    {
     "name": "stdout",
     "output_type": "stream",
     "text": [
      "              precision    recall  f1-score   support\n",
      "\n",
      "           0       0.86      0.97      0.91      1493\n",
      "           1       0.75      0.39      0.51       382\n",
      "\n",
      "    accuracy                           0.85      1875\n",
      "   macro avg       0.81      0.68      0.71      1875\n",
      "weighted avg       0.84      0.85      0.83      1875\n",
      "\n"
     ]
    }
   ],
   "source": [
    "print(classification_report(y_val, y_pred))"
   ]
  },
  {
   "cell_type": "markdown",
   "metadata": {},
   "source": [
    "Обучим сначала лес с небольшим количетсвом деревьев, подобрав глубину, найдем оптимальное кол-во деревьев"
   ]
  },
  {
   "cell_type": "code",
   "execution_count": 26,
   "metadata": {},
   "outputs": [
    {
     "name": "stdout",
     "output_type": "stream",
     "text": [
      "Точность случайного леса: 0.859\n",
      "Количество деревьев: 39\n",
      "Глубина дерева: 10\n",
      "AUC SCORE = 0.850\n"
     ]
    }
   ],
   "source": [
    "best_param_depth = None\n",
    "best_param_est = None\n",
    "best_rf_model = None\n",
    "best_score = 0\n",
    "for depth in range(1, 21):\n",
    "    rf_model = RandomForestClassifier(n_estimators=10, max_depth=depth, random_state=12345)\n",
    "    rf_model.fit(X_train, y_train)\n",
    "    score = rf_model.score(X_val, y_val)\n",
    "    if score > best_score:\n",
    "        best_score = score\n",
    "        best_param_depth = depth\n",
    "\n",
    "for est in range(11, 100, 2):\n",
    "    rf_model = RandomForestClassifier(n_estimators=est, max_depth=best_param_depth, random_state=12345)\n",
    "    rf_model.fit(X_train, y_train)\n",
    "    score = rf_model.score(X_val, y_val)\n",
    "    if score > best_score:\n",
    "        best_score = score\n",
    "        best_rf_model = rf_model\n",
    "        best_param_est = est\n",
    "\n",
    "y_pred = best_rf_model.predict(X_val)\n",
    "\n",
    "auc_score = roc_auc_score(y_val, best_rf_model.predict_proba(X_val)[:, 1])\n",
    "\n",
    "print(f'Точность случайного леса: {accuracy_score(y_val, y_pred):.3f}')\n",
    "print(f'Количество деревьев: {best_param_est}')\n",
    "print(f'Глубина дерева: {best_param_depth}')\n",
    "\n",
    "print(f'AUC SCORE = {auc_score:.3f}')"
   ]
  },
  {
   "cell_type": "markdown",
   "metadata": {},
   "source": [
    "Оценим адекватность моделей"
   ]
  },
  {
   "cell_type": "code",
   "execution_count": 27,
   "metadata": {},
   "outputs": [
    {
     "name": "stdout",
     "output_type": "stream",
     "text": [
      "Точность константой модели: 0.796\n"
     ]
    }
   ],
   "source": [
    "y_pred = pd.Series(0, index=y_val)\n",
    "print(f'Точность константой модели: {accuracy_score(y_val, y_pred):.3f}')"
   ]
  },
  {
   "cell_type": "markdown",
   "metadata": {},
   "source": [
    "Из за дисбаланса классов видим, что константная модель обладает такой же точностью, что и линейная"
   ]
  },
  {
   "cell_type": "markdown",
   "metadata": {},
   "source": [
    "В качестве итоговой модели выберем случайный лес, так как он показал наибольшую точность на валидационной выборке"
   ]
  },
  {
   "cell_type": "code",
   "execution_count": 28,
   "metadata": {},
   "outputs": [],
   "source": [
    "model = best_dt_model\n",
    "y_pred = model.predict(X_val)"
   ]
  },
  {
   "cell_type": "markdown",
   "metadata": {},
   "source": [
    "Выводы\n",
    "- Лучшую точность показал случайны лес с точностью на валидационной выборке - 0.858\n",
    "- Из-за дисбаланса классов требуется дополнительное исследование модели\n",
    "- Линейная модель показала себя плохо, связано с тем, что у нас также невысокая кореляция с целевой переменной, а это плохо"
   ]
  },
  {
   "cell_type": "markdown",
   "metadata": {},
   "source": [
    "## Борьба с дисбалансом"
   ]
  },
  {
   "cell_type": "code",
   "execution_count": 29,
   "metadata": {},
   "outputs": [
    {
     "name": "stdout",
     "output_type": "stream",
     "text": [
      "              precision    recall  f1-score   support\n",
      "\n",
      "           0       0.86      0.97      0.91      1493\n",
      "           1       0.75      0.39      0.51       382\n",
      "\n",
      "    accuracy                           0.85      1875\n",
      "   macro avg       0.81      0.68      0.71      1875\n",
      "weighted avg       0.84      0.85      0.83      1875\n",
      "\n"
     ]
    }
   ],
   "source": [
    "print(classification_report(y_val, y_pred))"
   ]
  },
  {
   "cell_type": "markdown",
   "metadata": {},
   "source": [
    "Видим, что наша модель обладает низкой полнотой, что сказывается на f-score"
   ]
  },
  {
   "cell_type": "markdown",
   "metadata": {},
   "source": [
    "Рассмотрим несколько способов борьбы с дисбалансом, а именно: upsample (downsample не подойдет так как у нас всего 10000 объектов в исходных данных),\n",
    "подберем порог"
   ]
  },
  {
   "cell_type": "code",
   "execution_count": 30,
   "metadata": {},
   "outputs": [],
   "source": [
    "def upsample(X, y, repeat):\n",
    "    X_zeros = X[y == 0]\n",
    "    X_ones = X[y == 1]\n",
    "    y_zeros = y[y == 0]\n",
    "    y_ones = y[y == 1]\n",
    "\n",
    "    X_upsampled = pd.concat([X_zeros] + [X_ones] * repeat)\n",
    "    y_upsampled = pd.concat([y_zeros] + [y_ones] * repeat)\n",
    "\n",
    "    X_upsampled, y_upsampled = shuffle(X_upsampled, y_upsampled, random_state=12345)\n",
    "    return X_upsampled, y_upsampled\n",
    "\n",
    "#не подойдет\n",
    "def downsample(X, y, fraction):\n",
    "    X_zeros = X[y == 0]\n",
    "    X_ones = X[y == 1]\n",
    "    y_zeros = y[y == 0]\n",
    "    y_ones = y[y == 1]\n",
    "\n",
    "    X_downsampled = pd.concat([X_zeros.sample(frac=fraction, random_state=12345)] + [X_ones])\n",
    "    y_downsampled = pd.concat([y_zeros.sample(frac=fraction, random_state=12345)] + [y_ones])\n",
    "\n",
    "    X_downsampled, y_downsampled = shuffle(X_downsampled, y_downsampled, random_state=12345)\n",
    "    return X_downsampled, y_downsampled"
   ]
  },
  {
   "cell_type": "markdown",
   "metadata": {},
   "source": [
    "Обучим заново случайный лес и найдем оптимальные гиперпараметры, в качестве параметра repeat возьмем 4, так как дисбаланс 1 к 4"
   ]
  },
  {
   "cell_type": "code",
   "execution_count": 31,
   "metadata": {},
   "outputs": [
    {
     "name": "stdout",
     "output_type": "stream",
     "text": [
      "Точность случайного леса: 0.846\n",
      "Количество деревьев: 65\n",
      "Глубина дерева: 18\n"
     ]
    }
   ],
   "source": [
    "best_param_depth = None\n",
    "best_param_est = None\n",
    "best_rf_model = None\n",
    "best_score = 0\n",
    "\n",
    "repeat = 4\n",
    "\n",
    "X_upsampled, y_upsampled = upsample(X_train, y_train, repeat)\n",
    "\n",
    "for depth in range(1, 21):\n",
    "    dt_model = RandomForestClassifier(n_estimators=10, max_depth=depth, random_state=12345)\n",
    "    dt_model.fit(X_upsampled, y_upsampled)\n",
    "    score = dt_model.score(X_val, y_val)\n",
    "    if score > best_score:\n",
    "        best_score = score\n",
    "        best_param_depth = depth\n",
    "\n",
    "for est in range(10, 100, 1):\n",
    "    dt_model = RandomForestClassifier(n_estimators=est, max_depth=best_param_depth, random_state=12345)\n",
    "    dt_model.fit(X_upsampled, y_upsampled)\n",
    "    score = dt_model.score(X_val, y_val)\n",
    "    if score > best_score:\n",
    "        best_score = score\n",
    "        best_rf_model = dt_model\n",
    "        best_param_est = est\n",
    "\n",
    "y_pred = best_rf_model.predict(X_val)\n",
    "\n",
    "print(f'Точность случайного леса: {accuracy_score(y_val, y_pred):.3f}')\n",
    "print(f'Количество деревьев: {best_param_est}')\n",
    "print(f'Глубина дерева: {best_param_depth}')"
   ]
  },
  {
   "cell_type": "code",
   "execution_count": 32,
   "metadata": {},
   "outputs": [
    {
     "name": "stdout",
     "output_type": "stream",
     "text": [
      "              precision    recall  f1-score   support\n",
      "\n",
      "           0      0.886     0.926     0.905      1493\n",
      "           1      0.648     0.534     0.585       382\n",
      "\n",
      "    accuracy                          0.846      1875\n",
      "   macro avg      0.767     0.730     0.745      1875\n",
      "weighted avg      0.837     0.846     0.840      1875\n",
      "\n"
     ]
    }
   ],
   "source": [
    "print(classification_report(y_val, y_pred, digits=3))"
   ]
  },
  {
   "cell_type": "markdown",
   "metadata": {},
   "source": [
    "~~Требование f-score >= 0.59 - достигнуто~~ Уже не достигается, так как заменили медиану на -1 при заполнении пропусков, но через порог можно дойти"
   ]
  },
  {
   "cell_type": "markdown",
   "metadata": {},
   "source": [
    "Подберем также порог"
   ]
  },
  {
   "cell_type": "code",
   "execution_count": 33,
   "metadata": {},
   "outputs": [],
   "source": [
    "probabilities_valid = best_rf_model.predict_proba(X_val)\n",
    "probabilities_one_valid = probabilities_valid[:, 1]"
   ]
  },
  {
   "cell_type": "code",
   "execution_count": 34,
   "metadata": {},
   "outputs": [
    {
     "name": "stdout",
     "output_type": "stream",
     "text": [
      "Порог = 0.00 | Точность = 0.210, Полнота = 1.000, f-score = 0.346, roc-auc-score = 0.517\n",
      "Порог = 0.01 | Точность = 0.213, Полнота = 1.000, f-score = 0.352, roc-auc-score = 0.528\n",
      "Порог = 0.02 | Точность = 0.225, Полнота = 0.995, f-score = 0.367, roc-auc-score = 0.560\n",
      "Порог = 0.03 | Точность = 0.228, Полнота = 0.995, f-score = 0.370, roc-auc-score = 0.565\n",
      "Порог = 0.04 | Точность = 0.242, Полнота = 0.982, f-score = 0.388, roc-auc-score = 0.597\n",
      "Порог = 0.05 | Точность = 0.254, Полнота = 0.976, f-score = 0.404, roc-auc-score = 0.622\n",
      "Порог = 0.06 | Точность = 0.258, Полнота = 0.974, f-score = 0.408, roc-auc-score = 0.629\n",
      "Порог = 0.07 | Точность = 0.270, Полнота = 0.961, f-score = 0.421, roc-auc-score = 0.647\n",
      "Порог = 0.08 | Точность = 0.282, Полнота = 0.955, f-score = 0.435, roc-auc-score = 0.666\n",
      "Порог = 0.09 | Точность = 0.285, Полнота = 0.953, f-score = 0.439, roc-auc-score = 0.670\n",
      "Порог = 0.10 | Точность = 0.296, Полнота = 0.945, f-score = 0.451, roc-auc-score = 0.685\n",
      "Порог = 0.11 | Точность = 0.305, Полнота = 0.929, f-score = 0.459, roc-auc-score = 0.694\n",
      "Порог = 0.12 | Точность = 0.310, Полнота = 0.921, f-score = 0.464, roc-auc-score = 0.699\n",
      "Порог = 0.13 | Точность = 0.321, Полнота = 0.908, f-score = 0.475, roc-auc-score = 0.709\n",
      "Порог = 0.14 | Точность = 0.330, Полнота = 0.898, f-score = 0.483, roc-auc-score = 0.716\n",
      "Порог = 0.15 | Точность = 0.336, Полнота = 0.893, f-score = 0.488, roc-auc-score = 0.721\n",
      "Порог = 0.16 | Точность = 0.345, Полнота = 0.874, f-score = 0.494, roc-auc-score = 0.725\n",
      "Порог = 0.17 | Точность = 0.354, Полнота = 0.864, f-score = 0.503, roc-auc-score = 0.731\n",
      "Порог = 0.18 | Точность = 0.358, Полнота = 0.853, f-score = 0.504, roc-auc-score = 0.731\n",
      "Порог = 0.19 | Точность = 0.367, Полнота = 0.835, f-score = 0.510, roc-auc-score = 0.733\n",
      "Порог = 0.20 | Точность = 0.374, Полнота = 0.814, f-score = 0.512, roc-auc-score = 0.733\n",
      "Порог = 0.21 | Точность = 0.377, Полнота = 0.806, f-score = 0.513, roc-auc-score = 0.732\n",
      "Порог = 0.22 | Точность = 0.388, Полнота = 0.793, f-score = 0.522, roc-auc-score = 0.737\n",
      "Порог = 0.23 | Точность = 0.399, Полнота = 0.791, f-score = 0.530, roc-auc-score = 0.743\n",
      "Порог = 0.24 | Точность = 0.411, Полнота = 0.783, f-score = 0.539, roc-auc-score = 0.748\n",
      "Порог = 0.25 | Точность = 0.418, Полнота = 0.767, f-score = 0.541, roc-auc-score = 0.747\n",
      "Порог = 0.26 | Точность = 0.425, Полнота = 0.757, f-score = 0.544, roc-auc-score = 0.747\n",
      "Порог = 0.27 | Точность = 0.438, Полнота = 0.746, f-score = 0.552, roc-auc-score = 0.750\n",
      "Порог = 0.28 | Точность = 0.453, Полнота = 0.733, f-score = 0.560, roc-auc-score = 0.753\n",
      "Порог = 0.29 | Точность = 0.454, Полнота = 0.717, f-score = 0.556, roc-auc-score = 0.748\n",
      "Порог = 0.30 | Точность = 0.458, Полнота = 0.707, f-score = 0.556, roc-auc-score = 0.747\n",
      "Порог = 0.31 | Точность = 0.473, Полнота = 0.702, f-score = 0.565, roc-auc-score = 0.751\n",
      "Порог = 0.32 | Точность = 0.478, Полнота = 0.686, f-score = 0.563, roc-auc-score = 0.747\n",
      "Порог = 0.33 | Точность = 0.484, Полнота = 0.675, f-score = 0.564, roc-auc-score = 0.746\n",
      "Порог = 0.34 | Точность = 0.506, Полнота = 0.668, f-score = 0.576, roc-auc-score = 0.750\n",
      "Порог = 0.35 | Точность = 0.512, Полнота = 0.657, f-score = 0.576, roc-auc-score = 0.748\n",
      "Порог = 0.36 | Точность = 0.525, Полнота = 0.649, f-score = 0.581, roc-auc-score = 0.750\n",
      "Порог = 0.37 | Точность = 0.538, Полнота = 0.641, f-score = 0.585, roc-auc-score = 0.750\n",
      "Порог = 0.38 | Точность = 0.538, Полнота = 0.634, f-score = 0.582, roc-auc-score = 0.747\n",
      "Порог = 0.39 | Точность = 0.544, Полнота = 0.626, f-score = 0.582, roc-auc-score = 0.746\n",
      "Порог = 0.40 | Точность = 0.553, Полнота = 0.613, f-score = 0.581, roc-auc-score = 0.743\n",
      "Порог = 0.41 | Точность = 0.558, Полнота = 0.605, f-score = 0.580, roc-auc-score = 0.741\n",
      "Порог = 0.42 | Точность = 0.573, Полнота = 0.597, f-score = 0.585, roc-auc-score = 0.741\n",
      "Порог = 0.43 | Точность = 0.578, Полнота = 0.592, f-score = 0.585, roc-auc-score = 0.741\n",
      "Порог = 0.44 | Точность = 0.592, Полнота = 0.592, f-score = 0.592, roc-auc-score = 0.744\n",
      "Порог = 0.45 | Точность = 0.603, Полнота = 0.584, f-score = 0.593, roc-auc-score = 0.743\n",
      "Порог = 0.46 | Точность = 0.616, Полнота = 0.579, f-score = 0.596, roc-auc-score = 0.743\n",
      "Порог = 0.47 | Точность = 0.627, Полнота = 0.568, f-score = 0.596, roc-auc-score = 0.741\n",
      "Порог = 0.48 | Точность = 0.635, Полнота = 0.560, f-score = 0.595, roc-auc-score = 0.739\n",
      "Порог = 0.49 | Точность = 0.639, Полнота = 0.555, f-score = 0.594, roc-auc-score = 0.737\n",
      "Порог = 0.50 | Точность = 0.648, Полнота = 0.534, f-score = 0.585, roc-auc-score = 0.730\n",
      "Порог = 0.51 | Точность = 0.641, Полнота = 0.513, f-score = 0.570, roc-auc-score = 0.720\n",
      "Порог = 0.52 | Точность = 0.648, Полнота = 0.505, f-score = 0.568, roc-auc-score = 0.717\n",
      "Порог = 0.53 | Точность = 0.654, Полнота = 0.500, f-score = 0.567, roc-auc-score = 0.716\n",
      "Порог = 0.54 | Точность = 0.662, Полнота = 0.487, f-score = 0.561, roc-auc-score = 0.712\n",
      "Порог = 0.55 | Точность = 0.665, Полнота = 0.479, f-score = 0.557, roc-auc-score = 0.709\n",
      "Порог = 0.56 | Точность = 0.683, Полнота = 0.469, f-score = 0.556, roc-auc-score = 0.706\n",
      "Порог = 0.57 | Точность = 0.688, Полнота = 0.461, f-score = 0.552, roc-auc-score = 0.704\n",
      "Порог = 0.58 | Точность = 0.684, Полнота = 0.453, f-score = 0.545, roc-auc-score = 0.700\n",
      "Порог = 0.59 | Точность = 0.683, Полнота = 0.440, f-score = 0.535, roc-auc-score = 0.694\n"
     ]
    }
   ],
   "source": [
    "for threshold in np.arange(0, 0.6, 0.01):\n",
    "    predicted_valid = probabilities_one_valid > threshold\n",
    "    precision = precision_score(y_val, predicted_valid)\n",
    "    recall = recall_score(y_val, predicted_valid)\n",
    "    f1 = f1_score(y_val, predicted_valid)\n",
    "    auc_score = roc_auc_score(y_val, predicted_valid)\n",
    "\n",
    "    print(\"Порог = {:.2f} | Точность = {:.3f}, Полнота = {:.3f}, f-score = {:.3f}, roc-auc-score = {:.3f}\".format(\n",
    "        threshold, precision, recall, f1, auc_score))"
   ]
  },
  {
   "cell_type": "markdown",
   "metadata": {},
   "source": [
    "~~При пороге 0.51 достигается максимальный f-score - 0.603~~ теперь при пороге 0.46 и максимальный f-score - 0.596"
   ]
  },
  {
   "cell_type": "markdown",
   "metadata": {},
   "source": [
    "Построим ROC график"
   ]
  },
  {
   "cell_type": "code",
   "execution_count": 35,
   "metadata": {},
   "outputs": [
    {
     "data": {
      "image/png": "[encoded data removed]",
      "text/plain": [
       "<Figure size 1152x648 with 1 Axes>"
      ]
     },
     "metadata": {
      "needs_background": "light"
     },
     "output_type": "display_data"
    }
   ],
   "source": [
    "tpr, fpr, thresholds = roc_curve(y_val, probabilities_one_valid)\n",
    "\n",
    "fig = plt.figure()\n",
    "\n",
    "fig.set_size_inches(16, 9)\n",
    "\n",
    "plt.plot([0, 1], ':', color='gray', label='Random model')\n",
    "plt.plot(tpr, fpr, label='Random Forest')\n",
    "plt.ylabel('FPR')\n",
    "plt.xlabel('TPR')\n",
    "plt.title('ROC')\n",
    "plt.legend(loc='lower right')\n",
    "\n",
    "plt.show()"
   ]
  },
  {
   "cell_type": "markdown",
   "metadata": {},
   "source": [
    "Выводы:\n",
    "- upsample помог увеличить f-score\n",
    "- подбор порога показал меньший вклад, однако, если бы мы не применили upsample, то вклад от порога был бы существеннее\n",
    "- Мы пожертвовали метрикой precision чтобы увеличить recall\n",
    "- ROC-score 0.741"
   ]
  },
  {
   "cell_type": "markdown",
   "metadata": {},
   "source": [
    "Рассмотрим в дополнении логистическую регрессию и решающее дерево"
   ]
  },
  {
   "cell_type": "code",
   "execution_count": 36,
   "metadata": {},
   "outputs": [
    {
     "name": "stdout",
     "output_type": "stream",
     "text": [
      "Точность логистической регресии: 0.638\n",
      "Параметр регуляризации C = : 0.1\n",
      "AUC SCORE = 0.690\n"
     ]
    }
   ],
   "source": [
    "best_lr_model = None\n",
    "best_param = 1\n",
    "best_score = 0\n",
    "\n",
    "repeat = 4\n",
    "\n",
    "X_upsampled, y_upsampled = upsample(X_train, y_train, repeat)\n",
    "\n",
    "for param in np.arange(0.1, 2, 0.1):\n",
    "    lr_model = LogisticRegression(C=param)\n",
    "\n",
    "    lr_model.fit(X_upsampled, y_upsampled)\n",
    "    \n",
    "    score = lr_model.score(X_train, y_train)\n",
    "    \n",
    "    if score > best_score:\n",
    "        best_score = score\n",
    "        best_lr_model = lr_model\n",
    "        best_param = param\n",
    "y_pred = best_lr_model.predict(X_val)\n",
    "\n",
    "auc_score = roc_auc_score(y_val, best_lr_model.predict_proba(X_val)[:, 1])\n",
    "\n",
    "print(f'Точность логистической регресии: {accuracy_score(y_val, y_pred):.3f}')\n",
    "print(f'Параметр регуляризации C = : {best_param}')\n",
    "print(f'AUC SCORE = {auc_score:.3f}')"
   ]
  },
  {
   "cell_type": "code",
   "execution_count": 37,
   "metadata": {},
   "outputs": [
    {
     "name": "stdout",
     "output_type": "stream",
     "text": [
      "Порог = 0.00 | Точность = 0.204, Полнота = 1.000, f-score = 0.339, roc-auc-score = 0.500\n",
      "Порог = 0.01 | Точность = 0.204, Полнота = 1.000, f-score = 0.339, roc-auc-score = 0.500\n",
      "Порог = 0.02 | Точность = 0.204, Полнота = 1.000, f-score = 0.339, roc-auc-score = 0.500\n",
      "Порог = 0.03 | Точность = 0.204, Полнота = 1.000, f-score = 0.339, roc-auc-score = 0.500\n",
      "Порог = 0.04 | Точность = 0.204, Полнота = 1.000, f-score = 0.339, roc-auc-score = 0.500\n",
      "Порог = 0.05 | Точность = 0.204, Полнота = 1.000, f-score = 0.339, roc-auc-score = 0.500\n",
      "Порог = 0.06 | Точность = 0.204, Полнота = 1.000, f-score = 0.339, roc-auc-score = 0.500\n",
      "Порог = 0.07 | Точность = 0.204, Полнота = 1.000, f-score = 0.339, roc-auc-score = 0.500\n",
      "Порог = 0.08 | Точность = 0.204, Полнота = 1.000, f-score = 0.339, roc-auc-score = 0.500\n",
      "Порог = 0.09 | Точность = 0.204, Полнота = 1.000, f-score = 0.339, roc-auc-score = 0.500\n",
      "Порог = 0.10 | Точность = 0.204, Полнота = 1.000, f-score = 0.339, roc-auc-score = 0.500\n",
      "Порог = 0.11 | Точность = 0.204, Полнота = 1.000, f-score = 0.339, roc-auc-score = 0.500\n",
      "Порог = 0.12 | Точность = 0.204, Полнота = 1.000, f-score = 0.339, roc-auc-score = 0.500\n",
      "Порог = 0.13 | Точность = 0.204, Полнота = 1.000, f-score = 0.339, roc-auc-score = 0.501\n",
      "Порог = 0.14 | Точность = 0.204, Полнота = 0.997, f-score = 0.339, roc-auc-score = 0.500\n",
      "Порог = 0.15 | Точность = 0.204, Полнота = 0.997, f-score = 0.339, roc-auc-score = 0.501\n",
      "Порог = 0.16 | Точность = 0.205, Полнота = 0.997, f-score = 0.340, roc-auc-score = 0.504\n",
      "Порог = 0.17 | Точность = 0.206, Полнота = 0.997, f-score = 0.341, roc-auc-score = 0.507\n",
      "Порог = 0.18 | Точность = 0.207, Полнота = 0.997, f-score = 0.342, roc-auc-score = 0.509\n",
      "Порог = 0.19 | Точность = 0.208, Полнота = 0.995, f-score = 0.343, roc-auc-score = 0.511\n",
      "Порог = 0.20 | Точность = 0.208, Полнота = 0.992, f-score = 0.344, roc-auc-score = 0.513\n",
      "Порог = 0.21 | Точность = 0.210, Полнота = 0.990, f-score = 0.346, roc-auc-score = 0.518\n",
      "Порог = 0.22 | Точность = 0.211, Полнота = 0.987, f-score = 0.348, roc-auc-score = 0.522\n",
      "Порог = 0.23 | Точность = 0.213, Полнота = 0.987, f-score = 0.351, roc-auc-score = 0.528\n",
      "Порог = 0.24 | Точность = 0.214, Полнота = 0.984, f-score = 0.352, roc-auc-score = 0.531\n",
      "Порог = 0.25 | Точность = 0.217, Полнота = 0.982, f-score = 0.356, roc-auc-score = 0.538\n",
      "Порог = 0.26 | Точность = 0.219, Полнота = 0.976, f-score = 0.358, roc-auc-score = 0.542\n",
      "Порог = 0.27 | Точность = 0.221, Полнота = 0.971, f-score = 0.360, roc-auc-score = 0.548\n",
      "Порог = 0.28 | Точность = 0.224, Полнота = 0.969, f-score = 0.364, roc-auc-score = 0.555\n",
      "Порог = 0.29 | Точность = 0.226, Полнота = 0.958, f-score = 0.366, roc-auc-score = 0.560\n",
      "Порог = 0.30 | Точность = 0.228, Полнота = 0.953, f-score = 0.369, roc-auc-score = 0.565\n",
      "Порог = 0.31 | Точность = 0.230, Полнота = 0.945, f-score = 0.370, roc-auc-score = 0.569\n",
      "Порог = 0.32 | Точность = 0.233, Полнота = 0.935, f-score = 0.373, roc-auc-score = 0.574\n",
      "Порог = 0.33 | Точность = 0.234, Полнота = 0.919, f-score = 0.374, roc-auc-score = 0.576\n",
      "Порог = 0.34 | Точность = 0.235, Полнота = 0.901, f-score = 0.373, roc-auc-score = 0.576\n",
      "Порог = 0.35 | Точность = 0.237, Полнота = 0.887, f-score = 0.374, roc-auc-score = 0.578\n",
      "Порог = 0.36 | Точность = 0.241, Полнота = 0.882, f-score = 0.378, roc-auc-score = 0.585\n",
      "Порог = 0.37 | Точность = 0.246, Полнота = 0.880, f-score = 0.384, roc-auc-score = 0.595\n",
      "Порог = 0.38 | Точность = 0.253, Полнота = 0.877, f-score = 0.393, roc-auc-score = 0.607\n",
      "Порог = 0.39 | Точность = 0.257, Полнота = 0.861, f-score = 0.396, roc-auc-score = 0.612\n",
      "Порог = 0.40 | Точность = 0.262, Полнота = 0.846, f-score = 0.400, roc-auc-score = 0.618\n",
      "Порог = 0.41 | Точность = 0.263, Полнота = 0.814, f-score = 0.398, roc-auc-score = 0.615\n",
      "Порог = 0.42 | Точность = 0.267, Полнота = 0.798, f-score = 0.401, roc-auc-score = 0.619\n",
      "Порог = 0.43 | Точность = 0.275, Полнота = 0.788, f-score = 0.407, roc-auc-score = 0.628\n",
      "Порог = 0.44 | Точность = 0.280, Полнота = 0.770, f-score = 0.410, roc-auc-score = 0.631\n",
      "Порог = 0.45 | Точность = 0.289, Полнота = 0.759, f-score = 0.418, roc-auc-score = 0.640\n",
      "Порог = 0.46 | Точность = 0.293, Полнота = 0.741, f-score = 0.420, roc-auc-score = 0.642\n",
      "Порог = 0.47 | Точность = 0.298, Полнота = 0.720, f-score = 0.421, roc-auc-score = 0.643\n",
      "Порог = 0.48 | Точность = 0.304, Полнота = 0.699, f-score = 0.424, roc-auc-score = 0.645\n",
      "Порог = 0.49 | Точность = 0.312, Полнота = 0.691, f-score = 0.430, roc-auc-score = 0.651\n",
      "Порог = 0.50 | Точность = 0.317, Полнота = 0.670, f-score = 0.430, roc-auc-score = 0.650\n",
      "Порог = 0.51 | Точность = 0.326, Полнота = 0.649, f-score = 0.434, roc-auc-score = 0.653\n",
      "Порог = 0.52 | Точность = 0.334, Полнота = 0.623, f-score = 0.435, roc-auc-score = 0.653\n",
      "Порог = 0.53 | Точность = 0.345, Полнота = 0.602, f-score = 0.439, roc-auc-score = 0.655\n",
      "Порог = 0.54 | Точность = 0.349, Полнота = 0.584, f-score = 0.437, roc-auc-score = 0.653\n",
      "Порог = 0.55 | Точность = 0.350, Полнота = 0.555, f-score = 0.430, roc-auc-score = 0.646\n",
      "Порог = 0.56 | Точность = 0.344, Полнота = 0.510, f-score = 0.411, roc-auc-score = 0.631\n",
      "Порог = 0.57 | Точность = 0.345, Полнота = 0.476, f-score = 0.400, roc-auc-score = 0.622\n",
      "Порог = 0.58 | Точность = 0.353, Полнота = 0.469, f-score = 0.403, roc-auc-score = 0.624\n",
      "Порог = 0.59 | Точность = 0.350, Полнота = 0.432, f-score = 0.387, roc-auc-score = 0.613\n"
     ]
    }
   ],
   "source": [
    "probabilities_one_valid = best_lr_model.predict_proba(X_val)[:, 1]\n",
    "\n",
    "for threshold in np.arange(0, 0.6, 0.01):\n",
    "    predicted_valid = probabilities_one_valid > threshold\n",
    "    precision = precision_score(y_val, predicted_valid)\n",
    "    recall = recall_score(y_val, predicted_valid)\n",
    "    f1 = f1_score(y_val, predicted_valid)\n",
    "    auc_score = roc_auc_score(y_val, predicted_valid)\n",
    "\n",
    "    print(\"Порог = {:.2f} | Точность = {:.3f}, Полнота = {:.3f}, f-score = {:.3f}, roc-auc-score = {:.3f}\".format(\n",
    "        threshold, precision, recall, f1, auc_score))"
   ]
  },
  {
   "cell_type": "markdown",
   "metadata": {},
   "source": [
    "При переборе порогов f-score выше 0.439 не поднимается"
   ]
  },
  {
   "cell_type": "markdown",
   "metadata": {},
   "source": [
    "Теперь также с решающим деревом\n",
    "Единственное, при использовании upsample в случае с деревом решений, f-score падает, поэтому repeat = 1"
   ]
  },
  {
   "cell_type": "code",
   "execution_count": 38,
   "metadata": {},
   "outputs": [
    {
     "name": "stdout",
     "output_type": "stream",
     "text": [
      "Точность дерева решений: 0.850\n",
      "Глубина дерева: 6\n",
      "AUC SCORE = 0.844\n"
     ]
    }
   ],
   "source": [
    "best_param = None\n",
    "best_dt_model = None\n",
    "best_score = 0\n",
    "\n",
    "\n",
    "repeat = 1\n",
    "\n",
    "X_upsampled, y_upsampled = upsample(X_train, y_train, repeat)\n",
    "\n",
    "for depth in range(1, 100):\n",
    "    dt_model = DecisionTreeClassifier(max_depth=depth, random_state=12345)\n",
    "    dt_model.fit(X_upsampled, y_upsampled)\n",
    "    score = dt_model.score(X_val, y_val)\n",
    "    if score > best_score:\n",
    "        best_score = score\n",
    "        best_dt_model = dt_model\n",
    "        best_param = depth\n",
    "\n",
    "y_pred = best_dt_model.predict(X_val)\n",
    "\n",
    "auc_score = roc_auc_score(y_val, best_dt_model.predict_proba(X_val)[:, 1])\n",
    "\n",
    "print(f'Точность дерева решений: {accuracy_score(y_val, y_pred):.3f}')\n",
    "print(f'Глубина дерева: {best_param}')\n",
    "print(f'AUC SCORE = {auc_score:.3f}')"
   ]
  },
  {
   "cell_type": "code",
   "execution_count": 39,
   "metadata": {},
   "outputs": [
    {
     "name": "stdout",
     "output_type": "stream",
     "text": [
      "Порог = 0.00 | Точность = 0.205, Полнота = 0.995, f-score = 0.340, roc-auc-score = 0.504\n",
      "Порог = 0.01 | Точность = 0.205, Полнота = 0.995, f-score = 0.340, roc-auc-score = 0.504\n",
      "Порог = 0.02 | Точность = 0.245, Полнота = 0.987, f-score = 0.392, roc-auc-score = 0.604\n",
      "Порог = 0.03 | Точность = 0.245, Полнота = 0.987, f-score = 0.392, roc-auc-score = 0.604\n",
      "Порог = 0.04 | Точность = 0.245, Полнота = 0.982, f-score = 0.392, roc-auc-score = 0.604\n",
      "Порог = 0.05 | Точность = 0.245, Полнота = 0.982, f-score = 0.392, roc-auc-score = 0.604\n",
      "Порог = 0.06 | Точность = 0.260, Полнота = 0.974, f-score = 0.410, roc-auc-score = 0.632\n",
      "Порог = 0.07 | Точность = 0.268, Полнота = 0.971, f-score = 0.420, roc-auc-score = 0.646\n",
      "Порог = 0.08 | Точность = 0.316, Полнота = 0.916, f-score = 0.470, roc-auc-score = 0.705\n",
      "Порог = 0.09 | Точность = 0.419, Полнота = 0.814, f-score = 0.553, roc-auc-score = 0.762\n",
      "Порог = 0.10 | Точность = 0.427, Полнота = 0.806, f-score = 0.558, roc-auc-score = 0.764\n",
      "Порог = 0.11 | Точность = 0.427, Полнота = 0.806, f-score = 0.558, roc-auc-score = 0.764\n",
      "Порог = 0.12 | Точность = 0.427, Полнота = 0.806, f-score = 0.558, roc-auc-score = 0.764\n",
      "Порог = 0.13 | Точность = 0.427, Полнота = 0.806, f-score = 0.558, roc-auc-score = 0.764\n",
      "Порог = 0.14 | Точность = 0.446, Полнота = 0.788, f-score = 0.570, roc-auc-score = 0.769\n",
      "Порог = 0.15 | Точность = 0.458, Полнота = 0.777, f-score = 0.577, roc-auc-score = 0.771\n",
      "Порог = 0.16 | Точность = 0.458, Полнота = 0.777, f-score = 0.577, roc-auc-score = 0.771\n",
      "Порог = 0.17 | Точность = 0.458, Полнота = 0.777, f-score = 0.577, roc-auc-score = 0.771\n",
      "Порог = 0.18 | Точность = 0.458, Полнота = 0.777, f-score = 0.577, roc-auc-score = 0.771\n",
      "Порог = 0.19 | Точность = 0.458, Полнота = 0.777, f-score = 0.577, roc-auc-score = 0.771\n",
      "Порог = 0.20 | Точность = 0.458, Полнота = 0.777, f-score = 0.577, roc-auc-score = 0.771\n",
      "Порог = 0.21 | Точность = 0.522, Полнота = 0.660, f-score = 0.583, roc-auc-score = 0.752\n",
      "Порог = 0.22 | Точность = 0.522, Полнота = 0.660, f-score = 0.583, roc-auc-score = 0.752\n",
      "Порог = 0.23 | Точность = 0.522, Полнота = 0.660, f-score = 0.583, roc-auc-score = 0.752\n",
      "Порог = 0.24 | Точность = 0.522, Полнота = 0.660, f-score = 0.583, roc-auc-score = 0.752\n",
      "Порог = 0.25 | Точность = 0.536, Полнота = 0.636, f-score = 0.582, roc-auc-score = 0.748\n",
      "Порог = 0.26 | Точность = 0.536, Полнота = 0.636, f-score = 0.582, roc-auc-score = 0.748\n",
      "Порог = 0.27 | Точность = 0.536, Полнота = 0.636, f-score = 0.582, roc-auc-score = 0.748\n",
      "Порог = 0.28 | Точность = 0.536, Полнота = 0.636, f-score = 0.582, roc-auc-score = 0.748\n",
      "Порог = 0.29 | Точность = 0.536, Полнота = 0.636, f-score = 0.582, roc-auc-score = 0.748\n",
      "Порог = 0.30 | Точность = 0.536, Полнота = 0.636, f-score = 0.582, roc-auc-score = 0.748\n",
      "Порог = 0.31 | Точность = 0.536, Полнота = 0.636, f-score = 0.582, roc-auc-score = 0.748\n",
      "Порог = 0.32 | Точность = 0.536, Полнота = 0.636, f-score = 0.582, roc-auc-score = 0.748\n",
      "Порог = 0.33 | Точность = 0.536, Полнота = 0.636, f-score = 0.582, roc-auc-score = 0.748\n",
      "Порог = 0.34 | Точность = 0.590, Полнота = 0.558, f-score = 0.573, roc-auc-score = 0.729\n",
      "Порог = 0.35 | Точность = 0.590, Полнота = 0.558, f-score = 0.573, roc-auc-score = 0.729\n",
      "Порог = 0.36 | Точность = 0.590, Полнота = 0.558, f-score = 0.573, roc-auc-score = 0.729\n",
      "Порог = 0.37 | Точность = 0.617, Полнота = 0.545, f-score = 0.579, roc-auc-score = 0.729\n",
      "Порог = 0.38 | Точность = 0.676, Полнота = 0.448, f-score = 0.539, roc-auc-score = 0.696\n",
      "Порог = 0.39 | Точность = 0.676, Полнота = 0.448, f-score = 0.539, roc-auc-score = 0.696\n",
      "Порог = 0.40 | Точность = 0.676, Полнота = 0.448, f-score = 0.539, roc-auc-score = 0.696\n",
      "Порог = 0.41 | Точность = 0.676, Полнота = 0.448, f-score = 0.539, roc-auc-score = 0.696\n",
      "Порог = 0.42 | Точность = 0.714, Полнота = 0.432, f-score = 0.538, roc-auc-score = 0.694\n",
      "Порог = 0.43 | Точность = 0.714, Полнота = 0.432, f-score = 0.538, roc-auc-score = 0.694\n",
      "Порог = 0.44 | Точность = 0.750, Полнота = 0.401, f-score = 0.522, roc-auc-score = 0.683\n",
      "Порог = 0.45 | Точность = 0.750, Полнота = 0.401, f-score = 0.522, roc-auc-score = 0.683\n",
      "Порог = 0.46 | Точность = 0.750, Полнота = 0.401, f-score = 0.522, roc-auc-score = 0.683\n",
      "Порог = 0.47 | Точность = 0.750, Полнота = 0.401, f-score = 0.522, roc-auc-score = 0.683\n",
      "Порог = 0.48 | Точность = 0.750, Полнота = 0.401, f-score = 0.522, roc-auc-score = 0.683\n",
      "Порог = 0.49 | Точность = 0.750, Полнота = 0.401, f-score = 0.522, roc-auc-score = 0.683\n",
      "Порог = 0.50 | Точность = 0.753, Полнота = 0.390, f-score = 0.514, roc-auc-score = 0.679\n",
      "Порог = 0.51 | Точность = 0.753, Полнота = 0.390, f-score = 0.514, roc-auc-score = 0.679\n",
      "Порог = 0.52 | Точность = 0.753, Полнота = 0.390, f-score = 0.514, roc-auc-score = 0.679\n",
      "Порог = 0.53 | Точность = 0.753, Полнота = 0.390, f-score = 0.514, roc-auc-score = 0.679\n",
      "Порог = 0.54 | Точность = 0.753, Полнота = 0.390, f-score = 0.514, roc-auc-score = 0.679\n",
      "Порог = 0.55 | Точность = 0.753, Полнота = 0.390, f-score = 0.514, roc-auc-score = 0.679\n",
      "Порог = 0.56 | Точность = 0.753, Полнота = 0.390, f-score = 0.514, roc-auc-score = 0.679\n",
      "Порог = 0.57 | Точность = 0.753, Полнота = 0.390, f-score = 0.514, roc-auc-score = 0.679\n",
      "Порог = 0.58 | Точность = 0.753, Полнота = 0.390, f-score = 0.514, roc-auc-score = 0.679\n",
      "Порог = 0.59 | Точность = 0.753, Полнота = 0.390, f-score = 0.514, roc-auc-score = 0.679\n"
     ]
    }
   ],
   "source": [
    "probabilities_one_valid = best_dt_model.predict_proba(X_val)[:, 1]\n",
    "\n",
    "for threshold in np.arange(0, 0.6, 0.01):\n",
    "    predicted_valid = probabilities_one_valid > threshold\n",
    "    precision = precision_score(y_val, predicted_valid)\n",
    "    recall = recall_score(y_val, predicted_valid)\n",
    "    f1 = f1_score(y_val, predicted_valid)\n",
    "    auc_score = roc_auc_score(y_val, predicted_valid)\n",
    "\n",
    "    print(\"Порог = {:.2f} | Точность = {:.3f}, Полнота = {:.3f}, f-score = {:.3f}, roc-auc-score = {:.3f}\".format(\n",
    "        threshold, precision, recall, f1, auc_score))"
   ]
  },
  {
   "cell_type": "markdown",
   "metadata": {},
   "source": [
    "Альтернативные модели не смогли достичь f-score >= 0.5"
   ]
  },
  {
   "cell_type": "markdown",
   "metadata": {},
   "source": [
    "## Тестирование модели"
   ]
  },
  {
   "cell_type": "code",
   "execution_count": 40,
   "metadata": {},
   "outputs": [
    {
     "name": "stdout",
     "output_type": "stream",
     "text": [
      "Точность модели на тестовой выборке 0.8544\n"
     ]
    }
   ],
   "source": [
    "threshold = 0.51 # получили при подборе\n",
    "\n",
    "y_pred_test = (best_rf_model.predict_proba(X_test)[:, 1] > threshold)\n",
    "\n",
    "print(f'Точность модели на тестовой выборке {accuracy_score(y_test, y_pred_test)}')"
   ]
  },
  {
   "cell_type": "code",
   "execution_count": 41,
   "metadata": {},
   "outputs": [
    {
     "name": "stdout",
     "output_type": "stream",
     "text": [
      "              precision    recall  f1-score   support\n",
      "\n",
      "           0      0.891     0.931     0.911      1991\n",
      "           1      0.673     0.554     0.608       509\n",
      "\n",
      "    accuracy                          0.854      2500\n",
      "   macro avg      0.782     0.743     0.759      2500\n",
      "weighted avg      0.847     0.854     0.849      2500\n",
      "\n"
     ]
    }
   ],
   "source": [
    "print(classification_report(y_test, y_pred_test, digits=3))"
   ]
  },
  {
   "cell_type": "markdown",
   "metadata": {},
   "source": [
    "Выводы\n",
    "- Точность модели с учетом порога составляет 0.95\n",
    "- Требованние к f-score также достигнуто"
   ]
  },
  {
   "cell_type": "markdown",
   "metadata": {},
   "source": [
    "## Чек-лист готовности проекта"
   ]
  },
  {
   "cell_type": "markdown",
   "metadata": {},
   "source": [
    "Поставьте 'x' в выполненных пунктах. Далее нажмите Shift+Enter."
   ]
  },
  {
   "cell_type": "markdown",
   "metadata": {},
   "source": [
    "- [x]  Jupyter Notebook открыт\n",
    "- [x]  Весь код выполняется без ошибок\n",
    "- [x]  Ячейки с кодом расположены в порядке исполнения\n",
    "- [x]  Выполнен шаг 1: данные подготовлены\n",
    "- [x]  Выполнен шаг 2: задача исследована\n",
    "    - [x]  Исследован баланс классов\n",
    "    - [x]  Изучены модели без учёта дисбаланса\n",
    "    - [x]  Написаны выводы по результатам исследования\n",
    "- [x]  Выполнен шаг 3: учтён дисбаланс\n",
    "    - [x]  Применено несколько способов борьбы с дисбалансом\n",
    "    - [x]  Написаны выводы по результатам исследования\n",
    "- [x]  Выполнен шаг 4: проведено тестирование\n",
    "- [x]  Удалось достичь *F1*-меры не менее 0.59\n",
    "- [x]  Исследована метрика *AUC-ROC*"
   ]
  }
 ],
 "metadata": {
  "ExecuteTimeLog": [
   {
    "duration": 3,
    "start_time": "2022-11-11T11:09:17.779Z"
   },
   {
    "duration": 1473,
    "start_time": "2022-11-11T11:10:48.810Z"
   },
   {
    "duration": 116,
    "start_time": "2022-11-11T11:10:51.757Z"
   },
   {
    "duration": 15,
    "start_time": "2022-11-11T11:10:53.670Z"
   },
   {
    "duration": 4,
    "start_time": "2022-11-11T11:10:54.789Z"
   },
   {
    "duration": 4,
    "start_time": "2022-11-11T11:10:55.062Z"
   },
   {
    "duration": 6,
    "start_time": "2022-11-11T11:10:55.450Z"
   },
   {
    "duration": 35,
    "start_time": "2022-11-11T11:10:55.890Z"
   },
   {
    "duration": 6,
    "start_time": "2022-11-11T11:10:56.877Z"
   },
   {
    "duration": 2,
    "start_time": "2022-11-11T11:10:57.769Z"
   },
   {
    "duration": 406,
    "start_time": "2022-11-11T11:10:58.388Z"
   },
   {
    "duration": 3,
    "start_time": "2022-11-11T11:11:02.902Z"
   },
   {
    "duration": 9,
    "start_time": "2022-11-11T11:12:38.063Z"
   },
   {
    "duration": 7,
    "start_time": "2022-11-11T11:12:40.228Z"
   },
   {
    "duration": 15,
    "start_time": "2022-11-11T11:12:40.728Z"
   },
   {
    "duration": 19,
    "start_time": "2022-11-11T11:12:44.391Z"
   },
   {
    "duration": 5,
    "start_time": "2022-11-11T11:12:46.918Z"
   },
   {
    "duration": 5,
    "start_time": "2022-11-11T11:12:47.311Z"
   },
   {
    "duration": 13,
    "start_time": "2022-11-11T11:12:49.558Z"
   },
   {
    "duration": 5,
    "start_time": "2022-11-11T11:13:59.482Z"
   },
   {
    "duration": 16,
    "start_time": "2022-11-11T11:13:59.489Z"
   },
   {
    "duration": 5,
    "start_time": "2022-11-11T11:13:59.810Z"
   },
   {
    "duration": 71,
    "start_time": "2022-11-11T11:17:06.893Z"
   },
   {
    "duration": 317,
    "start_time": "2022-11-11T11:17:10.573Z"
   },
   {
    "duration": 36143,
    "start_time": "2022-11-11T11:17:24.811Z"
   },
   {
    "duration": 93817,
    "start_time": "2022-11-11T11:18:02.751Z"
   },
   {
    "duration": 21971,
    "start_time": "2022-11-11T11:19:38.591Z"
   },
   {
    "duration": 43461,
    "start_time": "2022-11-11T11:20:20.092Z"
   },
   {
    "duration": 1115,
    "start_time": "2022-11-11T11:21:13.570Z"
   },
   {
    "duration": 24842,
    "start_time": "2022-11-11T11:21:39.272Z"
   },
   {
    "duration": 13991,
    "start_time": "2022-11-11T11:24:57.971Z"
   },
   {
    "duration": 28127,
    "start_time": "2022-11-11T11:25:21.231Z"
   },
   {
    "duration": 1970,
    "start_time": "2022-11-11T11:26:46.386Z"
   },
   {
    "duration": 1912,
    "start_time": "2022-11-11T11:27:28.143Z"
   },
   {
    "duration": 4726,
    "start_time": "2022-11-11T11:27:37.531Z"
   },
   {
    "duration": 8640,
    "start_time": "2022-11-11T11:27:43.513Z"
   },
   {
    "duration": 9,
    "start_time": "2022-11-11T11:27:57.150Z"
   },
   {
    "duration": 1130,
    "start_time": "2022-11-11T11:29:07.598Z"
   },
   {
    "duration": 25202,
    "start_time": "2022-11-11T11:29:13.406Z"
   },
   {
    "duration": 1120,
    "start_time": "2022-11-11T11:29:44.310Z"
   },
   {
    "duration": 7,
    "start_time": "2022-11-11T11:29:45.432Z"
   },
   {
    "duration": 25472,
    "start_time": "2022-11-11T11:30:17.840Z"
   },
   {
    "duration": 25006,
    "start_time": "2022-11-11T11:31:42.152Z"
   },
   {
    "duration": 13129,
    "start_time": "2022-11-11T11:32:36.175Z"
   },
   {
    "duration": 9,
    "start_time": "2022-11-11T11:34:14.734Z"
   },
   {
    "duration": 5,
    "start_time": "2022-11-11T11:34:22.825Z"
   },
   {
    "duration": 21135,
    "start_time": "2022-11-11T11:34:41.302Z"
   },
   {
    "duration": 8,
    "start_time": "2022-11-11T11:35:04.355Z"
   },
   {
    "duration": 41240,
    "start_time": "2022-11-11T11:35:11.284Z"
   },
   {
    "duration": 9,
    "start_time": "2022-11-11T11:35:52.526Z"
   },
   {
    "duration": 33,
    "start_time": "2022-11-11T11:36:07.184Z"
   },
   {
    "duration": 309,
    "start_time": "2022-11-11T11:36:07.855Z"
   },
   {
    "duration": 123,
    "start_time": "2022-11-11T11:38:23.216Z"
   },
   {
    "duration": 174,
    "start_time": "2022-11-11T11:39:00.035Z"
   },
   {
    "duration": 10557,
    "start_time": "2022-11-11T11:43:42.903Z"
   },
   {
    "duration": 432,
    "start_time": "2022-11-11T11:44:23.402Z"
   },
   {
    "duration": 1390,
    "start_time": "2022-11-11T11:46:31.320Z"
   },
   {
    "duration": 296,
    "start_time": "2022-11-11T11:46:40.720Z"
   },
   {
    "duration": 1137,
    "start_time": "2022-11-11T11:47:39.040Z"
   },
   {
    "duration": 319,
    "start_time": "2022-11-11T11:47:45.460Z"
   },
   {
    "duration": 1287,
    "start_time": "2022-11-11T11:48:50.901Z"
   },
   {
    "duration": 331,
    "start_time": "2022-11-11T11:48:52.190Z"
   },
   {
    "duration": 1410,
    "start_time": "2022-11-11T11:48:59.682Z"
   },
   {
    "duration": 308,
    "start_time": "2022-11-11T11:49:01.094Z"
   },
   {
    "duration": 2962,
    "start_time": "2022-11-11T11:49:08.904Z"
   },
   {
    "duration": 344,
    "start_time": "2022-11-11T11:49:11.868Z"
   },
   {
    "duration": 2898,
    "start_time": "2022-11-11T11:49:16.521Z"
   },
   {
    "duration": 325,
    "start_time": "2022-11-11T11:49:19.421Z"
   },
   {
    "duration": 2433,
    "start_time": "2022-11-11T11:49:28.802Z"
   },
   {
    "duration": 303,
    "start_time": "2022-11-11T11:49:31.237Z"
   },
   {
    "duration": 8315,
    "start_time": "2022-11-11T11:49:59.842Z"
   },
   {
    "duration": 563,
    "start_time": "2022-11-11T11:50:08.159Z"
   },
   {
    "duration": 9936,
    "start_time": "2022-11-11T11:50:17.421Z"
   },
   {
    "duration": 553,
    "start_time": "2022-11-11T11:50:27.359Z"
   },
   {
    "duration": 10066,
    "start_time": "2022-11-11T11:50:36.287Z"
   },
   {
    "duration": 2498,
    "start_time": "2022-11-11T11:51:19.090Z"
   },
   {
    "duration": 310,
    "start_time": "2022-11-11T11:51:21.589Z"
   },
   {
    "duration": 1318,
    "start_time": "2022-11-11T11:52:37.074Z"
   },
   {
    "duration": 68,
    "start_time": "2022-11-11T11:52:38.394Z"
   },
   {
    "duration": 15,
    "start_time": "2022-11-11T11:52:38.464Z"
   },
   {
    "duration": 4,
    "start_time": "2022-11-11T11:52:38.482Z"
   },
   {
    "duration": 8,
    "start_time": "2022-11-11T11:52:38.487Z"
   },
   {
    "duration": 7,
    "start_time": "2022-11-11T11:52:38.496Z"
   },
   {
    "duration": 49,
    "start_time": "2022-11-11T11:52:38.504Z"
   },
   {
    "duration": 7,
    "start_time": "2022-11-11T11:52:38.555Z"
   },
   {
    "duration": 10,
    "start_time": "2022-11-11T11:52:38.564Z"
   },
   {
    "duration": 339,
    "start_time": "2022-11-11T11:52:38.577Z"
   },
   {
    "duration": 3,
    "start_time": "2022-11-11T11:52:38.918Z"
   },
   {
    "duration": 17,
    "start_time": "2022-11-11T11:52:38.922Z"
   },
   {
    "duration": 4,
    "start_time": "2022-11-11T11:52:38.940Z"
   },
   {
    "duration": 18,
    "start_time": "2022-11-11T11:52:38.946Z"
   },
   {
    "duration": 17,
    "start_time": "2022-11-11T11:52:38.965Z"
   },
   {
    "duration": 4,
    "start_time": "2022-11-11T11:52:38.983Z"
   },
   {
    "duration": 6,
    "start_time": "2022-11-11T11:52:38.989Z"
   },
   {
    "duration": 14,
    "start_time": "2022-11-11T11:52:38.996Z"
   },
   {
    "duration": 5,
    "start_time": "2022-11-11T11:52:39.012Z"
   },
   {
    "duration": 36,
    "start_time": "2022-11-11T11:52:39.019Z"
   },
   {
    "duration": 6,
    "start_time": "2022-11-11T11:52:39.058Z"
   },
   {
    "duration": 7694,
    "start_time": "2022-11-11T11:52:39.065Z"
   },
   {
    "duration": 93,
    "start_time": "2022-11-11T11:52:46.760Z"
   },
   {
    "duration": 1571,
    "start_time": "2022-11-11T14:26:55.505Z"
   },
   {
    "duration": 121,
    "start_time": "2022-11-11T14:26:57.078Z"
   },
   {
    "duration": 18,
    "start_time": "2022-11-11T14:26:57.200Z"
   },
   {
    "duration": 5,
    "start_time": "2022-11-11T14:26:57.220Z"
   },
   {
    "duration": 8,
    "start_time": "2022-11-11T14:26:57.226Z"
   },
   {
    "duration": 9,
    "start_time": "2022-11-11T14:26:57.236Z"
   },
   {
    "duration": 42,
    "start_time": "2022-11-11T14:26:57.247Z"
   },
   {
    "duration": 8,
    "start_time": "2022-11-11T14:26:57.291Z"
   },
   {
    "duration": 6,
    "start_time": "2022-11-11T14:26:57.301Z"
   },
   {
    "duration": 439,
    "start_time": "2022-11-11T14:26:57.309Z"
   },
   {
    "duration": 4,
    "start_time": "2022-11-11T14:26:57.751Z"
   },
   {
    "duration": 10,
    "start_time": "2022-11-11T14:26:57.757Z"
   },
   {
    "duration": 5,
    "start_time": "2022-11-11T14:26:57.768Z"
   },
   {
    "duration": 17,
    "start_time": "2022-11-11T14:26:57.775Z"
   },
   {
    "duration": 19,
    "start_time": "2022-11-11T14:26:57.793Z"
   },
   {
    "duration": 5,
    "start_time": "2022-11-11T14:26:57.814Z"
   },
   {
    "duration": 33,
    "start_time": "2022-11-11T14:26:57.820Z"
   },
   {
    "duration": 22,
    "start_time": "2022-11-11T14:26:57.855Z"
   },
   {
    "duration": 5,
    "start_time": "2022-11-11T14:26:57.879Z"
   },
   {
    "duration": 6,
    "start_time": "2022-11-11T14:26:57.886Z"
   },
   {
    "duration": 7,
    "start_time": "2022-11-11T14:26:57.894Z"
   },
   {
    "duration": 8359,
    "start_time": "2022-11-11T14:26:57.902Z"
   },
   {
    "duration": 93,
    "start_time": "2022-11-11T14:27:06.263Z"
   },
   {
    "duration": 1245,
    "start_time": "2022-11-11T14:27:06.358Z"
   },
   {
    "duration": 8,
    "start_time": "2022-11-11T14:27:07.604Z"
   },
   {
    "duration": 14159,
    "start_time": "2022-11-11T14:27:07.614Z"
   },
   {
    "duration": 5,
    "start_time": "2022-11-11T14:27:21.774Z"
   },
   {
    "duration": 24,
    "start_time": "2022-11-11T14:27:21.782Z"
   },
   {
    "duration": 11,
    "start_time": "2022-11-11T14:27:21.807Z"
   },
   {
    "duration": 5,
    "start_time": "2022-11-11T14:27:21.820Z"
   },
   {
    "duration": 43991,
    "start_time": "2022-11-11T14:27:21.827Z"
   },
   {
    "duration": 9,
    "start_time": "2022-11-11T14:28:05.820Z"
   },
   {
    "duration": 45,
    "start_time": "2022-11-11T14:28:05.830Z"
   },
   {
    "duration": 329,
    "start_time": "2022-11-11T14:28:05.877Z"
   },
   {
    "duration": 205,
    "start_time": "2022-11-11T14:28:06.208Z"
   },
   {
    "duration": 11942,
    "start_time": "2022-11-11T14:28:06.415Z"
   },
   {
    "duration": 535,
    "start_time": "2022-11-11T14:28:18.359Z"
   },
   {
    "duration": 2604,
    "start_time": "2022-11-11T14:28:18.896Z"
   },
   {
    "duration": 328,
    "start_time": "2022-11-11T14:28:21.502Z"
   },
   {
    "duration": 58,
    "start_time": "2022-11-11T14:28:21.832Z"
   },
   {
    "duration": 9,
    "start_time": "2022-11-11T14:28:21.892Z"
   }
  ],
  "kernelspec": {
   "display_name": "Python 3 (ipykernel)",
   "language": "python",
   "name": "python3"
  },
  "language_info": {
   "codemirror_mode": {
    "name": "ipython",
    "version": 3
   },
   "file_extension": ".py",
   "mimetype": "text/x-python",
   "name": "python",
   "nbconvert_exporter": "python",
   "pygments_lexer": "ipython3",
   "version": "3.10.9"
  },
  "toc": {
   "base_numbering": 1,
   "nav_menu": {},
   "number_sections": true,
   "sideBar": true,
   "skip_h1_title": true,
   "title_cell": "Содержание",
   "title_sidebar": "Contents",
   "toc_cell": true,
   "toc_position": {},
   "toc_section_display": true,
   "toc_window_display": true
  }
 },
 "nbformat": 4,
 "nbformat_minor": 2
}
